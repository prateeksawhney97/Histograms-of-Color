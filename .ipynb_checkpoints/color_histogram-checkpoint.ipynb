{
 "cells": [
  {
   "cell_type": "code",
   "execution_count": null,
   "metadata": {},
   "outputs": [],
   "source": [
    "import numpy as np\n",
    "import cv2\n",
    "import matplotlib.pyplot as plt\n",
    "import matplotlib.image as mpimg\n",
    "\n",
    "image = mpimg.imread('cutout1.jpg')\n",
    "\n",
    "# Define a function to compute color histogram features  \n",
    "def color_hist(img, nbins=32, bins_range=(0, 256)):\n",
    "    # Compute the histogram of the RGB channels separately\n",
    "    rhist = None\n",
    "    ghist = None\n",
    "    bhist = None\n",
    "    # Generating bin centers\n",
    "    bin_centers = None\n",
    "    # Concatenate the histograms into a single feature vector\n",
    "    hist_features = None\n",
    "    # Return the individual histograms, bin_centers and feature vector\n",
    "    return rhist, ghist, bhist, bin_centers, hist_features\n",
    "    \n",
    "rh, gh, bh, bincen, feature_vec = color_hist(image, nbins=32, bins_range=(0, 256))\n",
    "\n",
    "# Plot a figure with all three bar charts\n",
    "if rh is not None:\n",
    "    fig = plt.figure(figsize=(12,3))\n",
    "    plt.subplot(131)\n",
    "    plt.bar(bincen, rh[0])\n",
    "    plt.xlim(0, 256)\n",
    "    plt.title('R Histogram')\n",
    "    plt.subplot(132)\n",
    "    plt.bar(bincen, gh[0])\n",
    "    plt.xlim(0, 256)\n",
    "    plt.title('G Histogram')\n",
    "    plt.subplot(133)\n",
    "    plt.bar(bincen, bh[0])\n",
    "    plt.xlim(0, 256)\n",
    "    plt.title('B Histogram')\n",
    "    fig.tight_layout()\n",
    "else:\n",
    "    print('Your function is returning None for at least one variable...')"
   ]
  }
 ],
 "metadata": {
  "kernelspec": {
   "display_name": "Python 3",
   "language": "python",
   "name": "python3"
  },
  "language_info": {
   "codemirror_mode": {
    "name": "ipython",
    "version": 3
   },
   "file_extension": ".py",
   "mimetype": "text/x-python",
   "name": "python",
   "nbconvert_exporter": "python",
   "pygments_lexer": "ipython3",
   "version": "3.5.2"
  },
  "widgets": {
   "state": {},
   "version": "1.1.2"
  }
 },
 "nbformat": 4,
 "nbformat_minor": 2
}
